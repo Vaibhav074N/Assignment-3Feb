{
  "nbformat": 4,
  "nbformat_minor": 0,
  "metadata": {
    "colab": {
      "provenance": []
    },
    "kernelspec": {
      "name": "python3",
      "display_name": "Python 3"
    },
    "language_info": {
      "name": "python"
    }
  },
  "cells": [
    {
      "cell_type": "markdown",
      "source": [
        "#####Q1.\n",
        "#####Ans: def f() keyword is used to create function."
      ],
      "metadata": {
        "id": "xbZw4EBzfRTW"
      }
    },
    {
      "cell_type": "code",
      "source": [
        "def list_odd():\n",
        "  n=[]\n",
        "  for i in l:\n",
        "    if i%2 != 0:\n",
        "      n.append(i)\n",
        "  return n\n"
      ],
      "metadata": {
        "id": "stC_tqdXfXR_"
      },
      "execution_count": null,
      "outputs": []
    },
    {
      "cell_type": "code",
      "source": [
        "l=range(1,25)\n",
        "list_odd()"
      ],
      "metadata": {
        "colab": {
          "base_uri": "https://localhost:8080/"
        },
        "id": "7k88mQOrgk8W",
        "outputId": "49bc0439-44a8-4bdc-9b37-ce7c52a8ecf4"
      },
      "execution_count": null,
      "outputs": [
        {
          "output_type": "execute_result",
          "data": {
            "text/plain": [
              "[1, 3, 5, 7, 9, 11, 13, 15, 17, 19, 21, 23]"
            ]
          },
          "metadata": {},
          "execution_count": 8
        }
      ]
    },
    {
      "cell_type": "markdown",
      "source": [
        "#####Q2.\n",
        "#####Ans:\n",
        "##### We use *args and **kwargs as an argument when we are unsure about the number of arguments to pass in the function.\n",
        "##### *args - we can pass any number of argument that we want in a runtime. Every type and Every length of argument it will take. *args basically store data in tuple.\n",
        "##### **kwargs - It will take n number of input in from of key value pair."
      ],
      "metadata": {
        "id": "gqtXWmNGh-B-"
      }
    },
    {
      "cell_type": "code",
      "source": [
        "def l(*args):\n",
        "    n=[]\n",
        "    for i in args:\n",
        "        if type(i)==list or type(i)==tuple:\n",
        "            n.append(i)\n",
        "    print(n)\n",
        "l(1,2,3,(5,4,3),[6,5,7,5],{9,77})"
      ],
      "metadata": {
        "colab": {
          "base_uri": "https://localhost:8080/"
        },
        "id": "V2_uK7NTiSDw",
        "outputId": "e4032415-f93b-4ef6-d6e5-356e5d97aa9f"
      },
      "execution_count": null,
      "outputs": [
        {
          "output_type": "stream",
          "name": "stdout",
          "text": [
            "[(5, 4, 3), [6, 5, 7, 5]]\n"
          ]
        }
      ]
    },
    {
      "cell_type": "code",
      "source": [
        "def f3(**kwargs):\n",
        "    for i in kwargs.keys():\n",
        "        if type(kwargs[i])==list:\n",
        "         print(i,kwargs[i])\n",
        "f3(a=2,b=True,c=[6,5,4],d=3.4,e='vaibhav',f=[3.4,5.5,6])\n"
      ],
      "metadata": {
        "colab": {
          "base_uri": "https://localhost:8080/"
        },
        "id": "6wmx96tEjoe7",
        "outputId": "14b67160-5ef8-405f-d18c-5d6a32dd7ed4"
      },
      "execution_count": null,
      "outputs": [
        {
          "output_type": "stream",
          "name": "stdout",
          "text": [
            "c [6, 5, 4]\n",
            "f [3.4, 5.5, 6]\n"
          ]
        }
      ]
    },
    {
      "cell_type": "markdown",
      "source": [
        "#####Q3.\n",
        "#####Ans:\n",
        "##### Iterator in python is an object that is used to iterate over iterable objects like lists,tuples,dicts,and sets.The itrrator object is initialized using the iter() method. It usus the next() method for iteration.\n",
        "##### (1) iter() - The iter() method is called for the initialization of an iterator. This returns an iterator object.\n",
        "##### (2) next() - The next method returns the next value for the iterable."
      ],
      "metadata": {
        "id": "17EJZJXok46W"
      }
    },
    {
      "cell_type": "code",
      "source": [
        "li = [2,4,6,8,10,12,14,16,18,20]\n",
        "a=iter(li)\n",
        "print(next(a))\n",
        "print(next(a))\n",
        "print(next(a))\n",
        "print(next(a))\n",
        "print(next(a))"
      ],
      "metadata": {
        "colab": {
          "base_uri": "https://localhost:8080/"
        },
        "id": "699yRnCZmzGJ",
        "outputId": "5a32dcd0-91e7-4d1a-9836-c6153515bf68"
      },
      "execution_count": null,
      "outputs": [
        {
          "output_type": "stream",
          "name": "stdout",
          "text": [
            "2\n",
            "4\n",
            "6\n",
            "8\n",
            "10\n"
          ]
        }
      ]
    },
    {
      "cell_type": "markdown",
      "source": [
        "#####Q4.\n",
        "#####Ans:\n",
        "##### Generator is a function that returns an iterator that produces a sequence of values when iterated over. Generators are useful when we want to produce a large sequence of values, but we don't want to store all of them in memory at once.\n",
        "##### Yield keyword is used to create a generator function.A type of function that is memory efficient and can be used like an iterator object."
      ],
      "metadata": {
        "id": "hGO5bOEDnhF5"
      }
    },
    {
      "cell_type": "code",
      "source": [
        "def c(s):\n",
        "  for i in s:\n",
        "    if i == \"pwskill\":\n",
        "      yield i\n",
        "s=\"pwskill have a good teachers, pwskill is great. \"\n",
        "count=0\n",
        "print(\"No. of pwskill is:\",end=\" \")\n",
        "s=s.split()\n",
        "for j in c(s):\n",
        "  count += 1\n",
        "print(count)"
      ],
      "metadata": {
        "colab": {
          "base_uri": "https://localhost:8080/"
        },
        "id": "HMkoAdEjsM3M",
        "outputId": "9e7f1c5a-8e2f-426a-8e40-30f33a39441c"
      },
      "execution_count": null,
      "outputs": [
        {
          "output_type": "stream",
          "name": "stdout",
          "text": [
            "No. of pwskill is: 2\n"
          ]
        }
      ]
    },
    {
      "cell_type": "markdown",
      "source": [
        "#####Q5."
      ],
      "metadata": {
        "id": "YVBSCab4tvul"
      }
    },
    {
      "cell_type": "code",
      "source": [
        "def f(l,u):\n",
        "    for n in range(l,u+1):\n",
        "        if n>1:\n",
        "            for i in range(2,n):\n",
        "                if n%i == 0:\n",
        "                    break\n",
        "            else:\n",
        "                 yield n\n",
        "p=f(1,1000)\n",
        "l=iter(p)\n",
        "print(next(l))\n",
        "print(next(l))\n",
        "print(next(l))\n",
        "print(next(l))\n",
        "print(next(l))\n",
        "print(next(l))\n",
        "print(next(l))\n",
        "print(next(l))\n",
        "print(next(l))\n",
        "print(next(l))\n",
        "print(next(l))\n",
        "print(next(l))\n",
        "print(next(l))\n",
        "print(next(l))\n",
        "print(next(l))\n",
        "print(next(l))\n",
        "print(next(l))\n",
        "print(next(l))\n",
        "print(next(l))\n",
        "print(next(l))"
      ],
      "metadata": {
        "id": "46BhvWPUwjZy",
        "colab": {
          "base_uri": "https://localhost:8080/"
        },
        "outputId": "ad7a9c79-add2-4cad-dc6c-26f79129a8cc"
      },
      "execution_count": 11,
      "outputs": [
        {
          "output_type": "stream",
          "name": "stdout",
          "text": [
            "2\n",
            "3\n",
            "5\n",
            "7\n",
            "11\n",
            "13\n",
            "17\n",
            "19\n",
            "23\n",
            "29\n",
            "31\n",
            "37\n",
            "41\n",
            "43\n",
            "47\n",
            "53\n",
            "59\n",
            "61\n",
            "67\n",
            "71\n"
          ]
        }
      ]
    }
  ]
}